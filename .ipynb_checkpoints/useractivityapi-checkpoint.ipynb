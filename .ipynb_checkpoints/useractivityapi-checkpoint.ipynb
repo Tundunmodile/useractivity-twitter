{
 "cells": [
  {
   "cell_type": "code",
   "execution_count": 1,
   "id": "f048a3d3",
   "metadata": {},
   "outputs": [],
   "source": [
    "import requests\n",
    "import json\n",
    "import pandas as pd\n",
    "import os\n",
    "import matplotlib as plt\n",
    "import numpy as np \n",
    "\n",
    "from dotenv import load_dotenv\n",
    "\n",
    "load_dotenv()\n",
    "\n",
    "API_KEY = os.getenv('API_KEY')\n",
    "API_KEY_SECRET = os.getenv('API_KEY_SECRET')\n",
    "BEARER_TOKEN = os.getenv('BEARER_TOKEN')"
   ]
  },
  {
   "cell_type": "code",
   "execution_count": 4,
   "id": "a7e10eef",
   "metadata": {},
   "outputs": [],
   "source": [
    "def retrieve_tweets(time_start, bearer_token):\n",
    "    \"\"\"\n",
    "    function to retrieve 100 tweets tweeted within an hour of time_start\n",
    "    \"\"\"\n",
    "    url = f\"https://api.twitter.com/2/tweets/search/recent?query=oscars2022%20-is%3Aretweet%20lang%3Aen%20-has%3Alinks&start_time=2022-03-27T{time_start}:00:00.000Z&end_time=2022-03-27T{time_start + 1}:00:00.000Z&max_results=100&tweet.fields=created_at\"\n",
    "    payload={}\n",
    "    headers = {\n",
    "      'Authorization': f'Bearer {bearer_token}',\n",
    "      'Cookie': 'guest_id=v1%3A164853211096256691; guest_id_ads=v1%3A164853211096256691; guest_id_marketing=v1%3A164853211096256691; personalization_id=\"v1_R51PgaLxBcdDSniM7AfLhA==\"'\n",
    "    }\n",
    "\n",
    "    # get tweets from the API\n",
    "    tweets = requests.request(\"GET\", url, headers=headers, data=payload)\n",
    "    tweets_json = tweets.json()\n",
    "    tweets_data = tweets_json['data']\n",
    "    \n",
    "    #extract tweets from json to create pandas dataframe\n",
    "    created_at_data = [d['created_at'] for d in tweets_data]\n",
    "    id_data = [d['id'] for d in tweets_data]\n",
    "    text_data = [d['text'] for d in tweets_data]\n",
    "    \n",
    "    tweets_df = pd.DataFrame(\n",
    "        {\n",
    "            'created_at': created_at_data, \n",
    "            'id': id_data,\n",
    "            'text': text_data\n",
    "        }\n",
    "    )\n",
    "    \n",
    "    return tweets_df\n",
    "    "
   ]
  },
  {
   "cell_type": "code",
   "execution_count": 10,
   "id": "3d5e0a44",
   "metadata": {},
   "outputs": [],
   "source": [
    "start_times = [i for i in range(10, 23)]\n",
    "\n",
    "all_tweets_df = pd.DataFrame()\n",
    "for start_time in start_times:\n",
    "    tweets_at_start_time = retrieve_tweets(start_time, BEARER_TOKEN)\n",
    "    all_tweets_df = pd.concat([all_tweets_df, tweets_at_start_time])"
   ]
  },
  {
   "cell_type": "code",
   "execution_count": 11,
   "id": "8bded8a6",
   "metadata": {},
   "outputs": [
    {
     "data": {
      "text/html": [
       "<div>\n",
       "<style scoped>\n",
       "    .dataframe tbody tr th:only-of-type {\n",
       "        vertical-align: middle;\n",
       "    }\n",
       "\n",
       "    .dataframe tbody tr th {\n",
       "        vertical-align: top;\n",
       "    }\n",
       "\n",
       "    .dataframe thead th {\n",
       "        text-align: right;\n",
       "    }\n",
       "</style>\n",
       "<table border=\"1\" class=\"dataframe\">\n",
       "  <thead>\n",
       "    <tr style=\"text-align: right;\">\n",
       "      <th></th>\n",
       "      <th>created_at</th>\n",
       "      <th>id</th>\n",
       "      <th>text</th>\n",
       "    </tr>\n",
       "  </thead>\n",
       "  <tbody>\n",
       "    <tr>\n",
       "      <th>0</th>\n",
       "      <td>2022-03-27T10:59:10.000Z</td>\n",
       "      <td>1508035896897327110</td>\n",
       "      <td>As you're watching the #Oscars remember that e...</td>\n",
       "    </tr>\n",
       "    <tr>\n",
       "      <th>1</th>\n",
       "      <td>2022-03-27T10:52:41.000Z</td>\n",
       "      <td>1508034266189668353</td>\n",
       "      <td>BEST PERFORMANCE BY AN ACTOR IN A LEADING ROLE...</td>\n",
       "    </tr>\n",
       "    <tr>\n",
       "      <th>2</th>\n",
       "      <td>2022-03-27T10:52:00.000Z</td>\n",
       "      <td>1508034093354729477</td>\n",
       "      <td>#SeanPenn had a small part in #LicoricePizza, ...</td>\n",
       "    </tr>\n",
       "    <tr>\n",
       "      <th>3</th>\n",
       "      <td>2022-03-27T10:50:08.000Z</td>\n",
       "      <td>1508033625073528837</td>\n",
       "      <td>BEST PERFORMANCE BY AN ACTRESS IN A LEADING RO...</td>\n",
       "    </tr>\n",
       "    <tr>\n",
       "      <th>4</th>\n",
       "      <td>2022-03-27T10:49:12.000Z</td>\n",
       "      <td>1508033389869293572</td>\n",
       "      <td>I think it's a shame #TheEyesOfTammyFaye movie...</td>\n",
       "    </tr>\n",
       "    <tr>\n",
       "      <th>5</th>\n",
       "      <td>2022-03-27T10:47:26.000Z</td>\n",
       "      <td>1508032946238017541</td>\n",
       "      <td>BEST PERFORMANCE BY AN ACTOR IN A SUPPORTING R...</td>\n",
       "    </tr>\n",
       "    <tr>\n",
       "      <th>6</th>\n",
       "      <td>2022-03-27T10:44:17.000Z</td>\n",
       "      <td>1508032150779863040</td>\n",
       "      <td>BEST PERFORMANCE BY AN ACTRESS IN A SUPPORTING...</td>\n",
       "    </tr>\n",
       "    <tr>\n",
       "      <th>7</th>\n",
       "      <td>2022-03-27T10:42:23.000Z</td>\n",
       "      <td>1508031674927534081</td>\n",
       "      <td>For me the actress who should win #Oscars2022 ...</td>\n",
       "    </tr>\n",
       "    <tr>\n",
       "      <th>8</th>\n",
       "      <td>2022-03-27T10:41:39.000Z</td>\n",
       "      <td>1508031489367326726</td>\n",
       "      <td>@KyivIndependent So you’re actually saying tha...</td>\n",
       "    </tr>\n",
       "    <tr>\n",
       "      <th>9</th>\n",
       "      <td>2022-03-27T10:41:18.000Z</td>\n",
       "      <td>1508031399995006976</td>\n",
       "      <td>So, #CODA is actually on the road to win Best ...</td>\n",
       "    </tr>\n",
       "  </tbody>\n",
       "</table>\n",
       "</div>"
      ],
      "text/plain": [
       "                 created_at                   id  \\\n",
       "0  2022-03-27T10:59:10.000Z  1508035896897327110   \n",
       "1  2022-03-27T10:52:41.000Z  1508034266189668353   \n",
       "2  2022-03-27T10:52:00.000Z  1508034093354729477   \n",
       "3  2022-03-27T10:50:08.000Z  1508033625073528837   \n",
       "4  2022-03-27T10:49:12.000Z  1508033389869293572   \n",
       "5  2022-03-27T10:47:26.000Z  1508032946238017541   \n",
       "6  2022-03-27T10:44:17.000Z  1508032150779863040   \n",
       "7  2022-03-27T10:42:23.000Z  1508031674927534081   \n",
       "8  2022-03-27T10:41:39.000Z  1508031489367326726   \n",
       "9  2022-03-27T10:41:18.000Z  1508031399995006976   \n",
       "\n",
       "                                                text  \n",
       "0  As you're watching the #Oscars remember that e...  \n",
       "1  BEST PERFORMANCE BY AN ACTOR IN A LEADING ROLE...  \n",
       "2  #SeanPenn had a small part in #LicoricePizza, ...  \n",
       "3  BEST PERFORMANCE BY AN ACTRESS IN A LEADING RO...  \n",
       "4  I think it's a shame #TheEyesOfTammyFaye movie...  \n",
       "5  BEST PERFORMANCE BY AN ACTOR IN A SUPPORTING R...  \n",
       "6  BEST PERFORMANCE BY AN ACTRESS IN A SUPPORTING...  \n",
       "7  For me the actress who should win #Oscars2022 ...  \n",
       "8  @KyivIndependent So you’re actually saying tha...  \n",
       "9  So, #CODA is actually on the road to win Best ...  "
      ]
     },
     "execution_count": 11,
     "metadata": {},
     "output_type": "execute_result"
    }
   ],
   "source": [
    "all_tweets_df.head(10)"
   ]
  },
  {
   "cell_type": "code",
   "execution_count": 12,
   "id": "ff67463a",
   "metadata": {},
   "outputs": [
    {
     "data": {
      "text/plain": [
       "(927, 3)"
      ]
     },
     "execution_count": 12,
     "metadata": {},
     "output_type": "execute_result"
    }
   ],
   "source": [
    "all_tweets_df.shape"
   ]
  },
  {
   "cell_type": "code",
   "execution_count": 13,
   "id": "3bb1eb94",
   "metadata": {},
   "outputs": [],
   "source": [
    "all_tweets_df.to_csv(\"all_tweets_data.csv\")"
   ]
  },
  {
   "cell_type": "code",
   "execution_count": 22,
   "id": "12477d11",
   "metadata": {},
   "outputs": [],
   "source": [
    "#gets rid of text column which is not needed for the analysis\n",
    "tweets_df = all_tweets_df.drop(columns=['text'])\n",
    "\n",
    "#changes the data type of the date column to datetime\n",
    "tweets_df['created_at'] = pd.to_datetime(tweets_df['created_at'])\n",
    "\n",
    "#changes the data type of the id column to string\n",
    "tweets_df['id'] = tweets_df['id'].astype(str)\n"
   ]
  },
  {
   "cell_type": "code",
   "execution_count": 23,
   "id": "e29d9858",
   "metadata": {},
   "outputs": [
    {
     "data": {
      "text/html": [
       "<div>\n",
       "<style scoped>\n",
       "    .dataframe tbody tr th:only-of-type {\n",
       "        vertical-align: middle;\n",
       "    }\n",
       "\n",
       "    .dataframe tbody tr th {\n",
       "        vertical-align: top;\n",
       "    }\n",
       "\n",
       "    .dataframe thead th {\n",
       "        text-align: right;\n",
       "    }\n",
       "</style>\n",
       "<table border=\"1\" class=\"dataframe\">\n",
       "  <thead>\n",
       "    <tr style=\"text-align: right;\">\n",
       "      <th></th>\n",
       "      <th>created_at</th>\n",
       "      <th>id</th>\n",
       "      <th>hour</th>\n",
       "    </tr>\n",
       "  </thead>\n",
       "  <tbody>\n",
       "    <tr>\n",
       "      <th>0</th>\n",
       "      <td>2022-03-27 10:59:10+00:00</td>\n",
       "      <td>1508035896897327110</td>\n",
       "      <td>10</td>\n",
       "    </tr>\n",
       "    <tr>\n",
       "      <th>1</th>\n",
       "      <td>2022-03-27 10:52:41+00:00</td>\n",
       "      <td>1508034266189668353</td>\n",
       "      <td>10</td>\n",
       "    </tr>\n",
       "    <tr>\n",
       "      <th>2</th>\n",
       "      <td>2022-03-27 10:52:00+00:00</td>\n",
       "      <td>1508034093354729477</td>\n",
       "      <td>10</td>\n",
       "    </tr>\n",
       "    <tr>\n",
       "      <th>3</th>\n",
       "      <td>2022-03-27 10:50:08+00:00</td>\n",
       "      <td>1508033625073528837</td>\n",
       "      <td>10</td>\n",
       "    </tr>\n",
       "    <tr>\n",
       "      <th>4</th>\n",
       "      <td>2022-03-27 10:49:12+00:00</td>\n",
       "      <td>1508033389869293572</td>\n",
       "      <td>10</td>\n",
       "    </tr>\n",
       "  </tbody>\n",
       "</table>\n",
       "</div>"
      ],
      "text/plain": [
       "                 created_at                   id  hour\n",
       "0 2022-03-27 10:59:10+00:00  1508035896897327110    10\n",
       "1 2022-03-27 10:52:41+00:00  1508034266189668353    10\n",
       "2 2022-03-27 10:52:00+00:00  1508034093354729477    10\n",
       "3 2022-03-27 10:50:08+00:00  1508033625073528837    10\n",
       "4 2022-03-27 10:49:12+00:00  1508033389869293572    10"
      ]
     },
     "execution_count": 23,
     "metadata": {},
     "output_type": "execute_result"
    }
   ],
   "source": [
    "tweets_df['hour'] = tweets_df['created_at'].dt.hour \n",
    "tweets_df.head(5)"
   ]
  },
  {
   "cell_type": "code",
   "execution_count": 24,
   "id": "d93a5f44",
   "metadata": {},
   "outputs": [
    {
     "data": {
      "text/html": [
       "<div>\n",
       "<style scoped>\n",
       "    .dataframe tbody tr th:only-of-type {\n",
       "        vertical-align: middle;\n",
       "    }\n",
       "\n",
       "    .dataframe tbody tr th {\n",
       "        vertical-align: top;\n",
       "    }\n",
       "\n",
       "    .dataframe thead th {\n",
       "        text-align: right;\n",
       "    }\n",
       "</style>\n",
       "<table border=\"1\" class=\"dataframe\">\n",
       "  <thead>\n",
       "    <tr style=\"text-align: right;\">\n",
       "      <th></th>\n",
       "      <th>id</th>\n",
       "    </tr>\n",
       "    <tr>\n",
       "      <th>hour</th>\n",
       "      <th></th>\n",
       "    </tr>\n",
       "  </thead>\n",
       "  <tbody>\n",
       "    <tr>\n",
       "      <th>10</th>\n",
       "      <td>36</td>\n",
       "    </tr>\n",
       "    <tr>\n",
       "      <th>11</th>\n",
       "      <td>39</td>\n",
       "    </tr>\n",
       "    <tr>\n",
       "      <th>12</th>\n",
       "      <td>39</td>\n",
       "    </tr>\n",
       "    <tr>\n",
       "      <th>13</th>\n",
       "      <td>52</td>\n",
       "    </tr>\n",
       "    <tr>\n",
       "      <th>14</th>\n",
       "      <td>54</td>\n",
       "    </tr>\n",
       "    <tr>\n",
       "      <th>15</th>\n",
       "      <td>49</td>\n",
       "    </tr>\n",
       "    <tr>\n",
       "      <th>16</th>\n",
       "      <td>99</td>\n",
       "    </tr>\n",
       "    <tr>\n",
       "      <th>17</th>\n",
       "      <td>91</td>\n",
       "    </tr>\n",
       "    <tr>\n",
       "      <th>18</th>\n",
       "      <td>89</td>\n",
       "    </tr>\n",
       "    <tr>\n",
       "      <th>19</th>\n",
       "      <td>81</td>\n",
       "    </tr>\n",
       "    <tr>\n",
       "      <th>20</th>\n",
       "      <td>99</td>\n",
       "    </tr>\n",
       "    <tr>\n",
       "      <th>21</th>\n",
       "      <td>100</td>\n",
       "    </tr>\n",
       "    <tr>\n",
       "      <th>22</th>\n",
       "      <td>99</td>\n",
       "    </tr>\n",
       "  </tbody>\n",
       "</table>\n",
       "</div>"
      ],
      "text/plain": [
       "       id\n",
       "hour     \n",
       "10     36\n",
       "11     39\n",
       "12     39\n",
       "13     52\n",
       "14     54\n",
       "15     49\n",
       "16     99\n",
       "17     91\n",
       "18     89\n",
       "19     81\n",
       "20     99\n",
       "21    100\n",
       "22     99"
      ]
     },
     "execution_count": 24,
     "metadata": {},
     "output_type": "execute_result"
    }
   ],
   "source": [
    "tweets_df[['hour', 'id']].groupby(['hour']).count()"
   ]
  },
  {
   "cell_type": "code",
   "execution_count": null,
   "id": "7dcfbf2e",
   "metadata": {},
   "outputs": [],
   "source": [
    "#tweets_df.head(100)\n",
    "display(tweets_df)"
   ]
  },
  {
   "cell_type": "code",
   "execution_count": 25,
   "id": "f0b96f7f",
   "metadata": {},
   "outputs": [],
   "source": [
    "import matplotlib.pyplot as plt\n",
    "import seaborn as sns"
   ]
  },
  {
   "cell_type": "code",
   "execution_count": 31,
   "id": "54dba673",
   "metadata": {},
   "outputs": [
    {
     "data": {
      "image/png": "[encoded data removed]",
      "text/plain": [
       "<Figure size 432x288 with 1 Axes>"
      ]
     },
     "metadata": {
      "needs_background": "light"
     },
     "output_type": "display_data"
    }
   ],
   "source": [
    "tweet_distribution = tweets_df[['hour', 'id']].groupby(['hour']).count().plot(kind=\"line\")\n",
    "plt.show()"
   ]
  },
  {
   "cell_type": "code",
   "execution_count": null,
   "id": "82adb971",
   "metadata": {},
   "outputs": [],
   "source": []
  }
 ],
 "metadata": {
  "kernelspec": {
   "display_name": "Python 3 (ipykernel)",
   "language": "python",
   "name": "python3"
  },
  "language_info": {
   "codemirror_mode": {
    "name": "ipython",
    "version": 3
   },
   "file_extension": ".py",
   "mimetype": "text/x-python",
   "name": "python",
   "nbconvert_exporter": "python",
   "pygments_lexer": "ipython3",
   "version": "3.9.7"
  }
 },
 "nbformat": 4,
 "nbformat_minor": 5
}
