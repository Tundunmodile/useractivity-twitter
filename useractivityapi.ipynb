{
 "cells": [
  {
   "cell_type": "code",
   "execution_count": 1,
   "id": "f048a3d3",
   "metadata": {},
   "outputs": [
    {
     "name": "stdout",
     "output_type": "stream",
     "text": [
      "{'data': [{'created_at': '2022-04-01T05:58:28.000Z', 'id': '1509772163406049282', 'text': '#WillSmith apology is fake af! Lost all respect for him! Fuckin whiney wanker! #Jada loves her bald head.. quit making lame-ass excuses for thug behavior at a black tie event. Get your ass in check dude! The devil is you, not Chris! I hope you get black listed! #Oscars2022 😒🖕'}, {'created_at': '2022-04-01T05:55:04.000Z', 'id': '1509771306337771526', 'text': \"What if they made a movie where the audience is the world population, Will Smith was America, Chris Rock was Russia &amp; Will Smith's wife was Ukraine. Who would be the absent law enforcers &amp; what would be the name of the movie? #Oscars2022.\"}, {'created_at': '2022-04-01T05:47:47.000Z', 'id': '1509769475016511509', 'text': \"@amyschumer was traumatized by the violence she saw at the Oscars. White people are always traumatized by violence that's in close proximity to them. They however can know that black people live with the threat of violence by police every day and sleep like babies. #Oscars2022\"}, {'created_at': '2022-04-01T05:47:19.000Z', 'id': '1509769358406389761', 'text': 'Miss Ma’am now playing the victim card after her husband already apologized #Oscars2022'}, {'created_at': '2022-04-01T05:44:16.000Z', 'id': '1509768587699007517', 'text': '.... and wonder how many will go for the complimentary punch (and how surprised they will be if they get arrested and get presented on charges). Just wondering. #PandorasBox #WillsBox #Oscars2022'}, {'created_at': '2022-04-01T05:42:27.000Z', 'id': '1509768133204058120', 'text': 'The world needs more #comedians than it needs #actors. Comedy relieves stress, makes people laugh, and understand contemporary issues closely #ChrisRock is the man #Oscars2022'}, {'created_at': '2022-04-01T05:39:41.000Z', 'id': '1509767436601634825', 'text': 'How as a comedian does Will get mad at a joke. Let’s not forget his jokes talked about fat people and midgets but a #baldheadscalywag is off limits? Ok #WillSmith #JadaPinkettSmith #Oscars2022 #ChrisRock'}, {'created_at': '2022-04-01T05:38:11.000Z', 'id': '1509767056505245698', 'text': 'May be this is the first time #ChrisRock told a joke that had real punchline! #WillSmith #Oscars2022 #Oscars'}, {'created_at': '2022-04-01T05:35:34.000Z', 'id': '1509766400260419643', 'text': 'I’m so tired of hearing about this damn slap but I’m also tired of Jada’s ass making Will look stupid. She did this shit purposely! How do you say you accept your condition then get mad at a joke!?!#JadaPinkettSmith #WillSmith #Oscars2022'}, {'created_at': '2022-04-01T05:21:16.000Z', 'id': '1509762799731453972', 'text': '@cnn gotta ot of karens exposing thereself covering the @willsmith situation! #WillSmith #ChrisRock #Oscars2022 #cnn'}, {'created_at': '2022-04-01T05:19:28.000Z', 'id': '1509762347593871397', 'text': '#ChrisRock has managed to bring more awareness for alopecia with one joke than #JadaPinkettSmith has since 2018. A lesson in marketing perhaps?🤷 #chrisrockwillsmith #WillSmith #Oscars2022 #WillSmithAssault'}, {'created_at': '2022-04-01T05:17:45.000Z', 'id': '1509761916595580984', 'text': '@shnklfritz My sister when she was a little kid was obsessed with Kevin Costner after running into him in the south of France one summer. After that she’d introduce herself to everyone she met as Dances with Cats😉\\n#KevinCostner #Oscars #Oscars2022 #AcademyAwards #AcademyAwards2022'}, {'created_at': '2022-04-01T05:14:58.000Z', 'id': '1509761215509278762', 'text': '@TheView @TaraSetmayer #Oscars2022 There was plenty of time in-between the slap and when Will won for the people in the audience to decide if they were going to stand or not ! It was a disgrace the ones who decided to stand !!'}, {'created_at': '2022-04-01T05:10:55.000Z', 'id': '1509760196528287747', 'text': \"@JaleesaLashay It's simply pathetic! That some of the most brilliant? Administrators? fumble basic accommodations for the impaired 100k gift bags but minimal respect preparing for those in need of assistance! Wealthy people are matter of fact completely on purpose they don't care #Oscars2022👀\"}, {'created_at': '2022-04-01T05:09:44.000Z', 'id': '1509759900599169061', 'text': '#RickyGervais: “People keep asking what would have happened if I had hosted the #Oscars2022. Nothing; I wouldn’t have made fun of #JadaPinkettSmith’s hair. I would have made fun of her boyfriend.”\\n\\n#WillSmith'}, {'created_at': '2022-04-01T05:08:27.000Z', 'id': '1509759577767784459', 'text': 'Breaking news: Zelensky sad he didn\\'t win Oscar. \"Well, Will Smith is better at drama\", he said. The most expensive filming is going to end.\\n\\n#Zelensky #war #Oscars2022 #WillSmith  #AprilFoolsDay (that name is fit for both)'}, {'created_at': '2022-04-01T05:08:12.000Z', 'id': '1509759512575569924', 'text': 'Thoughts where would Chris Rock be right now if Chuck Norris slapped him hmmm #Oscars #Oscars2022 #willsmithslap'}, {'created_at': '2022-04-01T05:01:45.000Z', 'id': '1509757888352464912', 'text': 'Lord knows I love me a man that can whoop somebody ass but he ain’t have to slap that man at them white ppl event #Oscars2022 #Oscars'}, {'created_at': '2022-04-01T04:59:32.000Z', 'id': '1509757331348750337', 'text': 'Thanks to #WillSmithAssault, #Oscars2022 have gained popularity'}, {'created_at': '2022-04-01T04:50:53.000Z', 'id': '1509755153620119565', 'text': 'Chris Rock is such a consummate professional. He saved that show by taking a terrible moment and not making it worse by responding in kind. He simply went about doing his job. So much respect for him. #WillSmith #ChrisRock #SlapChrisRock #Oscars2022 #ChrisRockSavedtheOscars'}, {'created_at': '2022-04-01T04:50:52.000Z', 'id': '1509755150050594816', 'text': \"@NBCNews So that was a bad joke. But he DIDN'T slap Chris Rock did he?\\nWill Smith did it, assaulted both physically and verbally a fellow black actor\\n#oscars2022\"}, {'created_at': '2022-04-01T04:46:14.000Z', 'id': '1509753984235732997', 'text': \"@japiesono No it's not. He chose to make a joke about a woman with alopecia. He's nothing but a school yard bully! #chrisrockwillsmith #Oscars2022 Both men should have been called out for what they said and did. #nobullyingnoway\"}, {'created_at': '2022-04-01T04:43:51.000Z', 'id': '1509753386002173956', 'text': '@MRMousaviniya WTF? #ChrisRock started it by making a woman with alopecia the punchline of a joke which was an extremely LOW act!!!! He does not deserve the moral high ground. Not at all. #Oscars2022'}, {'created_at': '2022-04-01T04:38:45.000Z', 'id': '1509752101630529537', 'text': '@MeetMalcom So @jadapsmith if that’s how you felt, then why have that sour ass face like giving the impression that you had a problem with the joke and causing this whole entire situation #WillSmith #JadaPinketSmith #ChrisRock #WillSmithAssault #Oscars2022 #Oscars'}, {'created_at': '2022-04-01T04:38:27.000Z', 'id': '1509752028028973085', 'text': '@SIPHERxyz @RongGuy You may be in a room with 99 people and none of them will slap you but one will🤣😏😉\\n\\n#Oscars2022  #Sipher'}, {'created_at': '2022-04-01T04:37:53.000Z', 'id': '1509751883308670977', 'text': 'Omg the nobody that called @TiffanyHaddish Dolce &amp; Gabbana gown a “costume” @laurenzima is married to Chris Harrison. Lmfaooooooo you can not make this shit up #Oscars2022'}, {'created_at': '2022-04-01T04:33:44.000Z', 'id': '1509750838322937857', 'text': '—period of mourning. It feels as though since #Oscars2022 I’ve done nary but trade on #OpenSea and explore Teyvat. (cc: @GenshinImpact) …But that’s enough about me. Let’s get on to the second half of this thread, how this slap reflects the state of #crypto/NFTs. (5/?)'}, {'created_at': '2022-04-01T04:19:50.000Z', 'id': '1509747340277657600', 'text': \"@Christinadjb I want to see the tape of Jada's reaction. #Oscars2022\"}, {'created_at': '2022-04-01T04:19:28.000Z', 'id': '1509747250016448513', 'text': \"Will Smith : *Slapped Chris Rock \\n\\nPeople :  i don't wanna play with Russia-Ukraine conflict anymore\\n\\n#RussiaUkraineWar #WillSmithAssault\\n#willsmithslap #RussiaandUkraine #WilllSmith #Oscars2022 #willsmithchrisrock #Russian #UkraineUnderAttack #Facts #Facts #FactCheck\"}, {'created_at': '2022-04-01T04:17:46.000Z', 'id': '1509746820058165268', 'text': '#Oscars2022 #Oscars still haven’t reprimanded #WillSmith so disappointing. AN ARREST SHOULD OF HAPPENED. #ChrisRock SUE WILL &amp; the #AcademyAwards'}, {'created_at': '2022-04-01T04:16:39.000Z', 'id': '1509746540683964430', 'text': 'Who is the euphoric interview person #Oscars2022'}, {'created_at': '2022-04-01T04:11:55.000Z', 'id': '1509745347072983042', 'text': 'Wrap up these slap discussion by Sunday at closing.\\nThank you,\\n\\n- Management.\\n#Oscars2022 #ChrisRockWillSmith'}, {'created_at': '2022-04-01T04:06:39.000Z', 'id': '1509744023006683138', 'text': 'It is undeniably true that the events of the #Oscars2022 will be significantly analysed, critically reflected upon and used as future case studies. The character #academia plays in this event is immense, and I am interested to see how Smiths actions will be understood.'}, {'created_at': '2022-04-01T04:06:13.000Z', 'id': '1509743913082437634', 'text': 'Remember a time in your life when you were going through a tough time and every one bore witness to it, but no one helped you… imagine that feeling of being completely abandoned, and it’s just you vs. the world. No one coming to your aid. \\nNow imagine #ChrisRock at #Oscars2022'}, {'created_at': '2022-04-01T04:05:59.000Z', 'id': '1509743854643204097', 'text': 'Provoked violence is not casual violence\\n@TheAcademy \\n#Oscars2022 \\n#TheSlap'}, {'created_at': '2022-04-01T04:05:32.000Z', 'id': '1509743741547925508', 'text': \"Don't get me wrong I love CHRIS and WILL. I just understand why Will did what he did, but I don't understand why Chris did what he did, and miss me with that comedian shit, he wasn't there to give a show, he was there to present an award!!#BlackTwitter #Oscars2022\"}, {'created_at': '2022-04-01T04:03:29.000Z', 'id': '1509743227557097474', 'text': 'Pooping with a stuffy nose is most unpleasant\\n\\n#Oscars2022'}, {'created_at': '2022-04-01T03:50:38.000Z', 'id': '1509739991961939968', 'text': '@AlecBaldwin one would think you would not comment on the #Oscars2022 incident considering all the attacking of people you’ve done in you lifetime'}, {'created_at': '2022-04-01T03:46:21.000Z', 'id': '1509738914722025475', 'text': 'Will Smith and Jada supporters gonna turn award show comedy into the most boring shit ever. We watch it for celebs to get picked on, it’s part of the experience! #AcademyAwards2022 #Oscars2022 #Oscars #AcademyAwards #willsmithchrisrock #TheSlap'}, {'created_at': '2022-04-01T03:45:39.000Z', 'id': '1509738736451403780', 'text': 'Well if @TheAcademy takes away an oscar from violent and emotionally unstable Will Smith…the same should happen to rapist Harvey Weinstein and pedophile Roman Polanski #USA #America #Hollywood #Oscars2022 #DemocratMentalDisorder   @THR @accesshollywood'}, {'created_at': '2022-04-01T03:45:21.000Z', 'id': '1509738663638454275', 'text': \"Keep your junk out my wife's mouth!! \\n\\n#Oscars2022 #joke\"}, {'created_at': '2022-04-01T03:45:13.000Z', 'id': '1509738629685407745', 'text': '@MailOnline That’s one movie I won’t bother to watch. #Oscars2022'}, {'created_at': '2022-04-01T03:43:36.000Z', 'id': '1509738221021933576', 'text': 'At the end of the day we all joked about how Will Smith slapped Chris Rock. We gotta respect Chris on how he handle it. #periodt #Oscars2022'}, {'created_at': '2022-04-01T03:41:20.000Z', 'id': '1509737651041193985', 'text': '@FallonTonight Give it up for @questlove and his success at the #Oscars2022 😎Hey, hey, hey, HEY!'}, {'created_at': '2022-04-01T03:40:34.000Z', 'id': '1509737457788801026', 'text': \"POC like Chris Rock or Will Smith has never had agency, it's just the evil white man pulling strings. If you think any different, you're internalising white supremacy and are racist by default. #Oscars2022\"}, {'created_at': '2022-04-01T03:39:08.000Z', 'id': '1509737098361794570', 'text': 'All comedians and comedy writers should just stop doing awards show for a solid year.  Let them find out just how much they suck without you.  #Hollywood #Oscars #Oscars2022 \\n@chrisrock'}, {'created_at': '2022-04-01T03:36:06.000Z', 'id': '1509736334235250704', 'text': 'The very people with the biggest platforms, some of whom have been loud, advocating “see something, say something”, where in the very position to do so and chose not to. In front of millions. Enough said. @TheAcademy #Oscars2022 #oscars'}, {'created_at': '2022-04-01T03:34:26.000Z', 'id': '1509735915841028096', 'text': \"@willsmith @chrisrock #Oscars2022 #willsmithslap #ChrisRock #oscarsnotcoolanymore \\nWe don't know if that was staged or not. If not then violence shouldn't be accepted/appreciated. Oscars are not cool anymore.\"}, {'created_at': '2022-04-01T03:30:35.000Z', 'id': '1509734946126008325', 'text': 'I imagine @chrisrock was bullied in school. Now, bullied as an adult by a diva-man. No one even bothered to came out on stage to check on Chris. Where was #Oscars2022 #security? #WillSmith #TheView #TheFive'}, {'created_at': '2022-04-01T03:21:29.000Z', 'id': '1509732658053492739', 'text': 'Which side are you on ? Standing Ovation for whom ?\\n@chrisrock #willsmith #Oscar #Oscars2022 #JIMCARRY #Hollywood #Bollywood'}, {'created_at': '2022-04-01T03:14:10.000Z', 'id': '1509730817119244291', 'text': '.. bottomline is, Will is out of control. The joke was’t the trigger for that act. It must have something else. We don’t know. But that was a no no at any level. They promote peace and what ever, but they themselves doesn’t do it. Live what you preach. #Oscars #Oscars2022'}, {'created_at': '2022-04-01T03:13:50.000Z', 'id': '1509730732016603140', 'text': \"Who's joke was more offensive  #SlapChrisRock #Oscars2022 #WilllSmith #KingRichard\"}, {'created_at': '2022-04-01T03:13:17.000Z', 'id': '1509730592128122889', 'text': '@CNN @jadapsmith has successfully ruined her and Wills career.  #evil #WilllSmith #WillSmith #Oscars2022'}, {'created_at': '2022-04-01T03:11:19.000Z', 'id': '1509730098706288640', 'text': '.. the after party, Will partied hard, no remorse whatsoever, Chris went to a different party and not letting it get to him. But during the event, he was trying to have a brave face and be professional. #Oscars #Oscars2022'}, {'created_at': '2022-04-01T03:10:50.000Z', 'id': '1509729977490501633', 'text': 'Didn’t we all grow up with the rule, if the winner is not able to complete their duty then the first runner up is named the winner!!!  I think the #Oscars2022 needs to tell us who was next in line and award accordingly. #WillSmith'}, {'created_at': '2022-04-01T03:10:14.000Z', 'id': '1509729826319454208', 'text': 'Now they saying she was laughing after da slap 😒 ✌️ #Oscars2022'}, {'created_at': '2022-04-01T03:09:37.000Z', 'id': '1509729670086152195', 'text': '.. Will was asked to leave, he refused, and when we won, he was given all the time for his speech. Maybe because the Academy knows that this will be his last invitation. #Oscars #Oscars2022'}, {'created_at': '2022-04-01T03:08:01.000Z', 'id': '1509729267260997633', 'text': '.. including Jada, who seems like lost like is this part of the joke or is this real. But realizing it was real already. And hold Will’s hand to relax him. Some friends comforted each party. #Oscars #Oscars2022'}, {'created_at': '2022-04-01T03:06:22.000Z', 'id': '1509728853085736966', 'text': 'If baldness is suddenly off limits in comedy, then there are a few people i must visit and smack the shit out of.. and a majority of them are women. #Oscars2022 #ChrisRock #willsmithslap'}, {'created_at': '2022-04-01T03:05:46.000Z', 'id': '1509728702179180546', 'text': '.. Chris commented on the smack, Jada laughed, then Will started shouting, again everyone thought it was part of a joke like playing a long, then Will shouted again, then it got serious, Chris commented that it will be something on tv, and some laughed.. #Oscars #Oscars2022'}, {'created_at': '2022-04-01T03:05:27.000Z', 'id': '1509728623187611650', 'text': 'Hey @SouthwestAir, I thought we were friends?!? Canceled flights, luggage flying under the wrong name, and now the baggage supervisor at @fly2ohare holds my bag for hours and yells at me?!! #badtrip #WeDontTalkAboutBruno #Oscars2022'}, {'created_at': '2022-04-01T03:03:59.000Z', 'id': '1509728250724978694', 'text': \"Soooo...I'm thinking to start a support group for the married comedians...unsure of whether to take a stance of defending their profession or their significant other... is most likely quite a dilemma! #FunnyButNotFunny  #Oscars2022\"}, {'created_at': '2022-04-01T03:03:55.000Z', 'id': '1509728236963512325', 'text': '@Reuters meanwhile in real news… Ukrainians continue to be slaughtered by Russia. Bodies lying in the street, children blown to pieces. Families murdered as they try to escape bombing. #SupportUkraine #StopPutinWar #Oscars2022'}, {'created_at': '2022-04-01T03:03:33.000Z', 'id': '1509728142625488897', 'text': '.. It seems like Will, will joke as well and play along. No, Will smacked Chris hard. Chris took it like a champ. Still, thinking Will was just playing along. No one knew it was serious, because Will was smiling after and went back to his sit.. #Oscars #Oscars2022'}, {'created_at': '2022-04-01T03:03:00.000Z', 'id': '1509728005874200577', 'text': '@AcademyAwardsHD loook Yall might not want to start a problem 🙄 ijs we fresh out of pandemic quarantines 🤷🏾\\u200d♀️ Dont mess with Will Smith 👀 just 1 last reason NOT to pay $50 at the movies theatre #Oscars2022 \\nDont take that man award'}, {'created_at': '2022-04-01T03:01:08.000Z', 'id': '1509727536800219146', 'text': 'Today I purchased a pair of tickets to an upcoming Chris Rock comedy show this summer to show my support. It was reported he got 2 back to back standing ovations in Boston tonight and was teary-eyed. We got you \\n@chrisrock\\n #Oscars2022   #SlapChrisRock'}, {'created_at': '2022-04-01T03:00:42.000Z', 'id': '1509727425386659844', 'text': \"@EncantoMovie Let's Celebrate, Felicidades, Congratulations to the cast &amp; crew of #Encanto for Winning the Academy award for Best Animated Feature Film!.. #Oscars #EncantoMovie\\n#Oscars2022 #MejorPeliculaAnimada\\n#Colombia 🇨🇴\\n#Latinos #RepresentationMatters #AcademyAward #AcademyAwards\"}, {'created_at': '2022-04-01T03:00:04.000Z', 'id': '1509727267391700996', 'text': 'My thoughts on this again, Chris said the joke, Will laughed, Jada rolled her eyes like she always does but wasn’t that offended. Everyone was enjoying the event. Will stood up walked up on stage, Chris thought oh what’s gonna happen.. #Oscars2022 #Oscars'}, {'created_at': '2022-04-01T02:58:27.000Z', 'id': '1509726858321055744', 'text': '#UgliestOscarMoment_Ever The decades-long celebration of #HarveyWeinstein was able to prey on actresses in #Hollywood for decades not just because he produced a lot of films,but specifically because of his reputation as an #Oscar maker.#OScars #Oscars2022'}, {'created_at': '2022-04-01T02:57:32.000Z', 'id': '1509726627676422151', 'text': 'Jada went serious though when Will started shouting. Then Chris said this will be the greatest whatever on tv. She somewhat laughed a bit again. Wtf just happened. #Oscars #Oscars2022'}, {'created_at': '2022-04-01T02:55:46.000Z', 'id': '1509726186448224258', 'text': 'There was a clip where Jada was laughing after Will got up and smacked Chris. When Chris said he was smacked the sht out of him. So she maybe thought it was a joke/ a skit like everyone initially assumed? #Oscars #Oscars2022'}, {'created_at': '2022-04-01T02:55:45.000Z', 'id': '1509726179288363008', 'text': '#OscarsSoBlack #JimmyKimmelLive so #WillSmith was asked to leave #Oscars2022 and he refused, now apparently it was only suggested he leave, but of course, because the people at #Oscars were terrified he would slap them also and then he had an #Oscar as a weapon'}, {'created_at': '2022-04-01T02:54:16.000Z', 'id': '1509725808260132871', 'text': \"One slap made us ponder about jokes &amp; bullying.\\n\\nMaking a joke about someone's disability/disease is not cool &amp; also violence is not the answer either. \\n\\nLet's take a moment today to realise our privileges &amp; reflect on where WE have abused our privilege. 🙏\\n\\n#Oscars2022\"}, {'created_at': '2022-04-01T02:52:43.000Z', 'id': '1509725419150454784', 'text': 'Man imagine going to the Oscars just to get a slap and nobody in the room supports you The Slap #Oscars #Slapgate #Oscars2022'}, {'created_at': '2022-04-01T02:52:43.000Z', 'id': '1509725418676699137', 'text': 'Aren’t comedians supposed to joke hard and somewhat personal? Why all of a sudden you’re sensitive. Again, Chris was out of line with the joke because it was a disease. But again, GI frickn Jane is a badass woman. Be proud you’re compared to Demi Moore #Oscars #Oscars2022'}, {'created_at': '2022-04-01T02:49:31.000Z', 'id': '1509724610086174729', 'text': 'I understand that fine he said sorry, but the damage has been done. He even partied hard after the event. How are you reflecting on it and working on yourself. Will just made it very dangerous to all comedians. #Oscars #Oscars2022'}, {'created_at': '2022-04-01T02:47:16.000Z', 'id': '1509724046547894272', 'text': 'The Academy said that they asked Will to leave the ceremony but refused. Well.. that’s power. That’s narcissism. He frickn’ ruined everything for everyone. Unbelievable. #Oscars\\xa0 #Oscars2022'}, {'created_at': '2022-04-01T02:44:26.000Z', 'id': '1509723334690603009', 'text': 'Will issued an apology post to Chris. And Chris won’t be pressing any charges. What a man Chris is. What a character Will becomes. #Oscars #Oscars2022'}, {'created_at': '2022-04-01T02:42:19.000Z', 'id': '1509722800025911296', 'text': 'Going back to this issue, a lot have spoken up their thoughts about the incident. And oh my it is definitely landslide that Will is the wrong. #Oscars #Oscars2022'}, {'created_at': '2022-04-01T02:41:20.000Z', 'id': '1509722554294018050', 'text': \"@TelegraphFilm I would not care. #OscarsSoWhite #Oscars2022 The show full of poop.  It's a white show. Token oscars here and there but predominantly white. No people of color including Asians &amp; Latinos\"}, {'created_at': '2022-04-01T02:40:01.000Z', 'id': '1509722219928244227', 'text': \"Hell, Kevin Spacey lost his career for sexual assault but we didn't have to witness it on live tv 😬 #WillSmith #Oscars #Oscars2022\"}, {'created_at': '2022-04-01T02:34:16.000Z', 'id': '1509720772608110612', 'text': \"@Toure You sounded whack as all get out, on Joy the other day, so many assumptions about Rock  and excuses for Smith's  violence.  And Homey moisturize your hair next time!  #Oscars2022\"}, {'created_at': '2022-04-01T02:33:12.000Z', 'id': '1509720505795887112', 'text': \"Now, this is a story all about how\\nThe Oscar’s got turnt upside down\\nAnd I'd like to take a minute,\\nJust sit right there!\\nI'll tell you how I delivered the freshest slap from Bel-Air\\n\\n#WillSmith #willsmithchrisrock #Oscars2022 #ChrisRock #Oscars\"}, {'created_at': '2022-04-01T02:27:30.000Z', 'id': '1509719072598114304', 'text': 'When they asked #WhiteHouse to comment about the incident that happened in #Oscars2022 they said “don’t want to politicize the #Oscar, oh yes I understand only way they want to do that when stupid #BenAffleck wants to trash #Shah_of_Iran, #BarackObama ready to give Oscar! Mmmm'}, {'created_at': '2022-04-01T02:16:23.000Z', 'id': '1509716274670055453', 'text': 'A slap is being made a big deal of however what about the blatant act of terrorism inflicted by Putin on the innocent Ukrainians for weeks now? How is that not infuriating and why is no action being taken? Violence of any form is unacceptable #violence #Ukrainewar #oscars2022'}, {'created_at': '2022-04-01T02:14:41.000Z', 'id': '1509715847283150856', 'text': 'Today is March 31st I hope I wake up to an April fools from Will &amp; Chris #Oscars2022 #AprilFoolsDay'}, {'created_at': '2022-04-01T02:14:11.000Z', 'id': '1509715718186622979', 'text': 'So I’m watching the #Oscars2022 for the first time. CODA wins Best Picture and speech is “I’d like to thank the Academy for recognizing…” and I immediately thought “genius as they see it. I have no one else to thank for this but myself.” #satisfaction @JustineBateman'}, {'created_at': '2022-04-01T02:14:05.000Z', 'id': '1509715696824946688', 'text': 'If #WillSmith is some great defender of women, why didn’t he also slap #HarveyWeinstein when he got his Oscars? Funny how when the most powerful man in Hollywood was on that Oscar’s stage, Captain Save Women sat quietly in his seat. #Oscars2022'}, {'created_at': '2022-04-01T02:06:29.000Z', 'id': '1509713782553067522', 'text': 'I ain’t like the joke Wanda Sykes made about Samuel L Jackson , I should smack her #Oscars2022'}, {'created_at': '2022-04-01T02:06:25.000Z', 'id': '1509713766459621376', 'text': '@Toure Why are black women just expected to take it?  The academy needs to accept the fact that they started this. #AcademyAwards2022 #ac,#Oscars2022'}, {'created_at': '2022-04-01T02:06:04.000Z', 'id': '1509713675891916804', 'text': '@DLoesch @TRogersBTD Rock was great.\\nWill Smith was wrong. The #Oscars2022 were wrong in handling a violent act by a \"vessel of love.\"'}, {'created_at': '2022-04-01T02:04:10.000Z', 'id': '1509713201319100422', 'text': '@Toure Apparently, the academy does not have any guidelines about involving the guest in your act.  The academy and guests could have enjoyed evening if the academy did not approve of insulting a black woman. #AcademyAwards2022 #aca, #Oscars2022'}, {'created_at': '2022-04-01T01:58:16.000Z', 'id': '1509711712982908928', 'text': \"@Toure It's crazy. People go straight to the slap instead of what/who put all this in motion. THE ACADEMY. #AcademyAwards2022 #Oscars2022\"}, {'created_at': '2022-04-01T01:57:06.000Z', 'id': '1509711420388257792', 'text': 'The real winner of #Oscars2022 ??\\n Carmine Caridi'}, {'created_at': '2022-04-01T01:55:49.000Z', 'id': '1509711098987040768', 'text': 'The moment we won! #Oscars2022 #Encanto #adassa DisneyAnimation #AcademyAwards2022 #oscarwinner #Dolores CGaitanOfici…'}, {'created_at': '2022-04-01T01:55:43.000Z', 'id': '1509711074131648512', 'text': '@TheAcademy #WillSmith should be suspended.\\n#Oscars #Oscars2022 #WillAndChris #willsmithslap #WillSmithAssault @chrisrock #ChrisRock'}, {'created_at': '2022-04-01T01:49:40.000Z', 'id': '1509709551062466560', 'text': 'The only good thing of #Oscars2022 was #BillieEilish and her dress. Luckily, we have other choices of networks like #NBC and #CBS than the Oscars. Even #LetsGoBrandon looks more entertaining. #WorstNight2022 👎📺'}, {'created_at': '2022-04-01T01:44:35.000Z', 'id': '1509708271774584837', 'text': 'Tomorrow is Friday and I hope that yous have finally gotten over #Oscars2022 cause I’m TIYAD of seeing it now 😒'}, {'created_at': '2022-04-01T01:42:57.000Z', 'id': '1509707860204466178', 'text': 'Are the people in running the Oscars really that ignorant? They received an increase after the violent incident. Yeah, but the Oscars 2023 would turn into a UFC type event next year unless they fix this year’s damage!!! #Oscars2022'}, {'created_at': '2022-04-01T01:42:47.000Z', 'id': '1509707819544625152', 'text': '#WillSmith #ChrisRock #DenzelWashington what I felt was real pain trust me I know what it feels like I know what it feels like when people have tried &amp; taken over this that. it hits me the most I’m powerless broken, #blameme #worldpeace That’s my message 4the #Oscars2022 love.'}], 'meta': {'newest_id': '1509772163406049282', 'oldest_id': '1509707819544625152', 'result_count': 100, 'next_token': 'b26v89c19zqg8o3fpyqp1fn5oe0joqg87qrzgbqxvfpml'}}\n"
     ]
    }
   ],
   "source": [
    "import requests\n",
    "import json\n",
    "import pandas as pd\n",
    "import os\n",
    "\n",
    "from dotenv import load_dotenv\n",
    "\n",
    "load_dotenv()\n",
    "\n",
    "API_KEY = os.getenv('API_KEY')\n",
    "API_KEY_SECRET = os.getenv('API_KEY_SECRET')\n",
    "BEARER_TOKEN = os.getenv('BEARER_TOKEN')\n",
    "\n",
    "url = \"https://api.twitter.com/2/tweets/search/recent?query=oscars2022%20lang%3Aen%20-is%3Aretweet%20-has%3Alinks&max_results=100&tweet.fields=created_at\"\n",
    "\n",
    "payload={}\n",
    "headers = {\n",
    "  'Authorization': f'Bearer {BEARER_TOKEN}',\n",
    "  'Cookie': 'guest_id=v1%3A164853211096256691; guest_id_ads=v1%3A164853211096256691; guest_id_marketing=v1%3A164853211096256691; personalization_id=\"v1_R51PgaLxBcdDSniM7AfLhA==\"'\n",
    "}\n",
    "\n",
    "# get tweets from the API\n",
    "tweets = requests.request(\"GET\", url, headers=headers, data=payload)\n",
    "print(tweets.json())"
   ]
  },
  {
   "cell_type": "code",
   "execution_count": 2,
   "id": "685a7acf",
   "metadata": {},
   "outputs": [],
   "source": [
    "json_tweets = tweets.json()\n",
    "json_data = json_tweets['data']"
   ]
  },
  {
   "cell_type": "code",
   "execution_count": 3,
   "id": "0b51bd38",
   "metadata": {},
   "outputs": [
    {
     "data": {
      "text/plain": [
       "(100, 3)"
      ]
     },
     "execution_count": 3,
     "metadata": {},
     "output_type": "execute_result"
    }
   ],
   "source": [
    "created_at_data = [d['created_at'] for d in json_data]\n",
    "id_data = [d['id'] for d in json_data]\n",
    "text_data = [d['text'] for d in json_data]\n",
    "\n",
    "tweets_df = pd.DataFrame({'created_at': created_at_data, 'id': id_data, 'text': text_data})\n",
    "tweets_df.shape"
   ]
  },
  {
   "cell_type": "code",
   "execution_count": 4,
   "id": "c6e52066",
   "metadata": {},
   "outputs": [
    {
     "data": {
      "text/html": [
       "<div>\n",
       "<style scoped>\n",
       "    .dataframe tbody tr th:only-of-type {\n",
       "        vertical-align: middle;\n",
       "    }\n",
       "\n",
       "    .dataframe tbody tr th {\n",
       "        vertical-align: top;\n",
       "    }\n",
       "\n",
       "    .dataframe thead th {\n",
       "        text-align: right;\n",
       "    }\n",
       "</style>\n",
       "<table border=\"1\" class=\"dataframe\">\n",
       "  <thead>\n",
       "    <tr style=\"text-align: right;\">\n",
       "      <th></th>\n",
       "      <th>created_at</th>\n",
       "      <th>id</th>\n",
       "      <th>text</th>\n",
       "    </tr>\n",
       "  </thead>\n",
       "  <tbody>\n",
       "    <tr>\n",
       "      <th>0</th>\n",
       "      <td>2022-04-01T05:58:28.000Z</td>\n",
       "      <td>1509772163406049282</td>\n",
       "      <td>#WillSmith apology is fake af! Lost all respec...</td>\n",
       "    </tr>\n",
       "    <tr>\n",
       "      <th>1</th>\n",
       "      <td>2022-04-01T05:55:04.000Z</td>\n",
       "      <td>1509771306337771526</td>\n",
       "      <td>What if they made a movie where the audience i...</td>\n",
       "    </tr>\n",
       "    <tr>\n",
       "      <th>2</th>\n",
       "      <td>2022-04-01T05:47:47.000Z</td>\n",
       "      <td>1509769475016511509</td>\n",
       "      <td>@amyschumer was traumatized by the violence sh...</td>\n",
       "    </tr>\n",
       "    <tr>\n",
       "      <th>3</th>\n",
       "      <td>2022-04-01T05:47:19.000Z</td>\n",
       "      <td>1509769358406389761</td>\n",
       "      <td>Miss Ma’am now playing the victim card after h...</td>\n",
       "    </tr>\n",
       "    <tr>\n",
       "      <th>4</th>\n",
       "      <td>2022-04-01T05:44:16.000Z</td>\n",
       "      <td>1509768587699007517</td>\n",
       "      <td>.... and wonder how many will go for the compl...</td>\n",
       "    </tr>\n",
       "    <tr>\n",
       "      <th>5</th>\n",
       "      <td>2022-04-01T05:42:27.000Z</td>\n",
       "      <td>1509768133204058120</td>\n",
       "      <td>The world needs more #comedians than it needs ...</td>\n",
       "    </tr>\n",
       "    <tr>\n",
       "      <th>6</th>\n",
       "      <td>2022-04-01T05:39:41.000Z</td>\n",
       "      <td>1509767436601634825</td>\n",
       "      <td>How as a comedian does Will get mad at a joke....</td>\n",
       "    </tr>\n",
       "    <tr>\n",
       "      <th>7</th>\n",
       "      <td>2022-04-01T05:38:11.000Z</td>\n",
       "      <td>1509767056505245698</td>\n",
       "      <td>May be this is the first time #ChrisRock told ...</td>\n",
       "    </tr>\n",
       "    <tr>\n",
       "      <th>8</th>\n",
       "      <td>2022-04-01T05:35:34.000Z</td>\n",
       "      <td>1509766400260419643</td>\n",
       "      <td>I’m so tired of hearing about this damn slap b...</td>\n",
       "    </tr>\n",
       "    <tr>\n",
       "      <th>9</th>\n",
       "      <td>2022-04-01T05:21:16.000Z</td>\n",
       "      <td>1509762799731453972</td>\n",
       "      <td>@cnn gotta ot of karens exposing thereself cov...</td>\n",
       "    </tr>\n",
       "  </tbody>\n",
       "</table>\n",
       "</div>"
      ],
      "text/plain": [
       "                 created_at                   id  \\\n",
       "0  2022-04-01T05:58:28.000Z  1509772163406049282   \n",
       "1  2022-04-01T05:55:04.000Z  1509771306337771526   \n",
       "2  2022-04-01T05:47:47.000Z  1509769475016511509   \n",
       "3  2022-04-01T05:47:19.000Z  1509769358406389761   \n",
       "4  2022-04-01T05:44:16.000Z  1509768587699007517   \n",
       "5  2022-04-01T05:42:27.000Z  1509768133204058120   \n",
       "6  2022-04-01T05:39:41.000Z  1509767436601634825   \n",
       "7  2022-04-01T05:38:11.000Z  1509767056505245698   \n",
       "8  2022-04-01T05:35:34.000Z  1509766400260419643   \n",
       "9  2022-04-01T05:21:16.000Z  1509762799731453972   \n",
       "\n",
       "                                                text  \n",
       "0  #WillSmith apology is fake af! Lost all respec...  \n",
       "1  What if they made a movie where the audience i...  \n",
       "2  @amyschumer was traumatized by the violence sh...  \n",
       "3  Miss Ma’am now playing the victim card after h...  \n",
       "4  .... and wonder how many will go for the compl...  \n",
       "5  The world needs more #comedians than it needs ...  \n",
       "6  How as a comedian does Will get mad at a joke....  \n",
       "7  May be this is the first time #ChrisRock told ...  \n",
       "8  I’m so tired of hearing about this damn slap b...  \n",
       "9  @cnn gotta ot of karens exposing thereself cov...  "
      ]
     },
     "execution_count": 4,
     "metadata": {},
     "output_type": "execute_result"
    }
   ],
   "source": [
    "tweets_df.head(10)"
   ]
  },
  {
   "cell_type": "code",
   "execution_count": null,
   "id": "ae9b964e",
   "metadata": {},
   "outputs": [],
   "source": []
  }
 ],
 "metadata": {
  "kernelspec": {
   "display_name": "Python 3 (ipykernel)",
   "language": "python",
   "name": "python3"
  },
  "language_info": {
   "codemirror_mode": {
    "name": "ipython",
    "version": 3
   },
   "file_extension": ".py",
   "mimetype": "text/x-python",
   "name": "python",
   "nbconvert_exporter": "python",
   "pygments_lexer": "ipython3",
   "version": "3.9.7"
  }
 },
 "nbformat": 4,
 "nbformat_minor": 5
}
